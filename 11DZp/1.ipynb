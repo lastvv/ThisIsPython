Знакомство с языком Python (семинары) Урок 11. Jupyter Notebook и несколько слов об аналитике f(x) = -12x^4*sin(cos(x)) - 18x^3+5x^2 + 10x - 30

Определить корни

Найти интервалы, на которых функция возрастает

Найти интервалы, на которых функция убывает

Построить график

Вычислить вершину

Определить промежутки, на котором f > 0

Определить промежутки, на котором f < 0

import numpy as np
import sympy as smp
from sympy import sin, cos
import matplotlib.pyplot as plt
x = smp.Symbol('x')
x_list = [i for i in range(-5,6)]
print(x_list)
[-5, -4, -3, -2, -1, 0, 1, 2, 3, 4, 5]
def func(x):
    return -12 * x ** 4 * np.sin(np.cos(x)) - 18 * x ** 3 + 5 * x ** 2 + 10 * x - 30

x = np.linspace(-10, 10, 5)
y = func(x) 
#направление графика
my_dif = np.diff(y)
print(my_dif)
print(f'вершина :{max(my_dif)}')
[-107456.81964325    -225.94986924   -4174.05013076   76056.81964325]
вершина :76056.81964324847
#plot простороение графика
fig, ax = plt.subplots()

ax.plot(x, y, linewidth =2.0)

coeff = [-12, -18, 5, 10]
print(f'корни уравнения: X, Y, Z :{np.roots(coeff)}')
plt.grid(True) #сетка
plt.show()
корни уравнения: X, Y, Z :[ 0.71465855 -1.35252331 -0.86213524]

x = smp.Symbol('x')
f =smp.sympify(-12*x**4*sin(cos(x))-18*x**3+5*x**2+10*x-30)
